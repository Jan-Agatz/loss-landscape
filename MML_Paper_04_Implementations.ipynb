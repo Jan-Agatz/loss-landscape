{
  "nbformat": 4,
  "nbformat_minor": 0,
  "metadata": {
    "colab": {
      "provenance": [],
      "gpuType": "T4",
      "include_colab_link": true
    },
    "kernelspec": {
      "name": "python3",
      "display_name": "Python 3"
    },
    "language_info": {
      "name": "python"
    },
    "accelerator": "GPU"
  },
  "cells": [
    {
      "cell_type": "markdown",
      "metadata": {
        "id": "view-in-github",
        "colab_type": "text"
      },
      "source": [
        "<a href=\"https://colab.research.google.com/github/Jan-Agatz/loss-landscape/blob/no_mpi/MML_Paper_04_Implementations.ipynb\" target=\"_parent\"><img src=\"https://colab.research.google.com/assets/colab-badge.svg\" alt=\"Open In Colab\"/></a>"
      ]
    },
    {
      "cell_type": "markdown",
      "source": [
        "## Mounting Google Drive to access and save files."
      ],
      "metadata": {
        "id": "t3nioIH3GAGw"
      }
    },
    {
      "cell_type": "code",
      "source": [
        "NAME = \"JHA\"\n",
        "\n",
        "if NAME == \"JHA\":\n",
        "  MOUNT_PATH = \"/content/drive\"\n",
        "  CODE_PATH  = \"/content/drive/MyDrive/Studium/WS 2023/MML/Paper 04/code\""
      ],
      "metadata": {
        "id": "mc0KOGPJvnix"
      },
      "execution_count": null,
      "outputs": []
    },
    {
      "cell_type": "code",
      "execution_count": null,
      "metadata": {
        "id": "RAdLg26-Dj5R",
        "colab": {
          "base_uri": "https://localhost:8080/"
        },
        "outputId": "405d69df-ef4b-4d62-b48a-b67afc27d279"
      },
      "outputs": [
        {
          "output_type": "stream",
          "name": "stdout",
          "text": [
            "Drive already mounted at /content/drive; to attempt to forcibly remount, call drive.mount(\"/content/drive\", force_remount=True).\n"
          ]
        }
      ],
      "source": [
        "from google.colab import drive\n",
        "drive.mount(CODE_PATH)"
      ]
    },
    {
      "cell_type": "code",
      "source": [
        "%cd $CODE_PATH\n",
        "%ls"
      ],
      "metadata": {
        "colab": {
          "base_uri": "https://localhost:8080/"
        },
        "id": "6s_dYoO2Gcc2",
        "outputId": "c5b4dfd3-0640-4f20-b96a-9ce0a6b23014"
      },
      "execution_count": null,
      "outputs": [
        {
          "output_type": "stream",
          "name": "stdout",
          "text": [
            "/content/drive/MyDrive/Studium/WS 2023/MML/Paper 04/code\n",
            " \u001b[0m\u001b[01;34mcifar10\u001b[0m/            mpi4pytorch.py          \u001b[01;34m__pycache__\u001b[0m/\n",
            " dataloader.py       net_plotter.py          README.md\n",
            " evaluation.py       pbs_job_launch.py       scheduler.py\n",
            " h52vtp.py           plot_1D.py              \u001b[01;34mscript\u001b[0m/\n",
            " h5_util.py          plot_2D.py              test.py\n",
            " hess_vec_prod.py    plot_hessian_eigen.py   _weights.h5\n",
            " launch_cluster.py   plot_surface.py        '_weights.h5_[-1.0,1.0,101]x[-1.0,1.0,101].h5'\n",
            " LICENSE             plot_trajectory.py\n",
            " model_loader.py     projection.py\n"
          ]
        }
      ]
    },
    {
      "cell_type": "markdown",
      "source": [
        "## Installing libraries (with the newest versions)"
      ],
      "metadata": {
        "id": "O57av6rpL7YZ"
      }
    },
    {
      "cell_type": "code",
      "source": [
        "!pip3 install torch torchvision torchaudio --index-url https://download.pytorch.org/whl/cu118"
      ],
      "metadata": {
        "colab": {
          "base_uri": "https://localhost:8080/"
        },
        "id": "oJEidrfUQH-_",
        "outputId": "692cac4b-1fa7-4367-fc3d-b6d37809f97a"
      },
      "execution_count": null,
      "outputs": [
        {
          "output_type": "stream",
          "name": "stdout",
          "text": [
            "Looking in indexes: https://download.pytorch.org/whl/cu118\n",
            "Requirement already satisfied: torch in /usr/local/lib/python3.10/dist-packages (2.1.0+cu121)\n",
            "Requirement already satisfied: torchvision in /usr/local/lib/python3.10/dist-packages (0.16.0+cu121)\n",
            "Requirement already satisfied: torchaudio in /usr/local/lib/python3.10/dist-packages (2.1.0+cu121)\n",
            "Requirement already satisfied: filelock in /usr/local/lib/python3.10/dist-packages (from torch) (3.13.1)\n",
            "Requirement already satisfied: typing-extensions in /usr/local/lib/python3.10/dist-packages (from torch) (4.5.0)\n",
            "Requirement already satisfied: sympy in /usr/local/lib/python3.10/dist-packages (from torch) (1.12)\n",
            "Requirement already satisfied: networkx in /usr/local/lib/python3.10/dist-packages (from torch) (3.2.1)\n",
            "Requirement already satisfied: jinja2 in /usr/local/lib/python3.10/dist-packages (from torch) (3.1.2)\n",
            "Requirement already satisfied: fsspec in /usr/local/lib/python3.10/dist-packages (from torch) (2023.6.0)\n",
            "Requirement already satisfied: triton==2.1.0 in /usr/local/lib/python3.10/dist-packages (from torch) (2.1.0)\n",
            "Requirement already satisfied: numpy in /usr/local/lib/python3.10/dist-packages (from torchvision) (1.23.5)\n",
            "Requirement already satisfied: requests in /usr/local/lib/python3.10/dist-packages (from torchvision) (2.31.0)\n",
            "Requirement already satisfied: pillow!=8.3.*,>=5.3.0 in /usr/local/lib/python3.10/dist-packages (from torchvision) (9.4.0)\n",
            "Requirement already satisfied: MarkupSafe>=2.0 in /usr/local/lib/python3.10/dist-packages (from jinja2->torch) (2.1.3)\n",
            "Requirement already satisfied: charset-normalizer<4,>=2 in /usr/local/lib/python3.10/dist-packages (from requests->torchvision) (3.3.2)\n",
            "Requirement already satisfied: idna<4,>=2.5 in /usr/local/lib/python3.10/dist-packages (from requests->torchvision) (3.6)\n",
            "Requirement already satisfied: urllib3<3,>=1.21.1 in /usr/local/lib/python3.10/dist-packages (from requests->torchvision) (2.0.7)\n",
            "Requirement already satisfied: certifi>=2017.4.17 in /usr/local/lib/python3.10/dist-packages (from requests->torchvision) (2023.11.17)\n",
            "Requirement already satisfied: mpmath>=0.19 in /usr/local/lib/python3.10/dist-packages (from sympy->torch) (1.3.0)\n"
          ]
        }
      ]
    },
    {
      "cell_type": "code",
      "source": [
        "!pip install mpi4py"
      ],
      "metadata": {
        "colab": {
          "base_uri": "https://localhost:8080/"
        },
        "id": "JoK9A9k-Rra0",
        "outputId": "cbe1abd6-fdd5-414c-d2b5-8b3aa0af1a80"
      },
      "execution_count": null,
      "outputs": [
        {
          "output_type": "stream",
          "name": "stdout",
          "text": [
            "Requirement already satisfied: mpi4py in /usr/local/lib/python3.10/dist-packages (3.1.5)\n"
          ]
        }
      ]
    },
    {
      "cell_type": "code",
      "source": [
        "# Checks whether the necessary libraries have already been installed\n",
        "try:\n",
        "  import os\n",
        "  import time\n",
        "  import torch\n",
        "  import torchvision\n",
        "  import numpy as np\n",
        "  import mpi4py\n",
        "  import h5py\n",
        "  import matplotlib\n",
        "  import scipy\n",
        "  from sklearn import datasets\n",
        "except:\n",
        "  print(\"Install the necessary libraries.\")"
      ],
      "metadata": {
        "id": "tN8UTynZNAC1"
      },
      "execution_count": null,
      "outputs": []
    },
    {
      "cell_type": "code",
      "source": [
        "# Check whether CUDA is available in the current environment and adjusts the\n",
        "# bash commands accordingly\n",
        "CUDA_AVAILABLE = torch.cuda.is_available()\n",
        "\n",
        "if CUDA_AVAILABLE:\n",
        "  CUDA_FLAG = \"--cuda\"\n",
        "else:\n",
        "  CUDA_FLAG = \"\""
      ],
      "metadata": {
        "id": "nJCaTWfmL5LV"
      },
      "execution_count": null,
      "outputs": []
    },
    {
      "cell_type": "markdown",
      "source": [
        "## Creating 1D linear interpolations"
      ],
      "metadata": {
        "id": "8bq1knXv3dyZ"
      }
    },
    {
      "cell_type": "code",
      "source": [
        "!python plot_surface.py --mpi $CUDA_FLAG --model vgg9 --x=-0.5:1.5:51 --dir_type states \\\n",
        "--model_file cifar10/trained_nets/vgg9_sgd_lr=0.1_bs=128_wd=0.0_save_epoch=1/model_300.t7 \\\n",
        "--model_file2 cifar10/trained_nets/vgg9_sgd_lr=0.1_bs=8192_wd=0.0_save_epoch=1/model_300.t7\\\n",
        "--plot --timestamp --fileformat png"
      ],
      "metadata": {
        "colab": {
          "base_uri": "https://localhost:8080/"
        },
        "id": "BCFFPPCS3dbW",
        "outputId": "3b52433c-0a1b-4e7e-820c-2060bda29a76"
      },
      "execution_count": null,
      "outputs": [
        {
          "output_type": "stream",
          "name": "stdout",
          "text": [
            "Using manual seed: 123\n",
            "The current seed is 123.\n",
            "Rank 0 use GPU 0 of 1 GPUs on 7dc99e10bf0f\n",
            "-------------------------------------------------------------------\n",
            "setup_direction\n",
            "-------------------------------------------------------------------\n",
            "cifar10/trained_nets/vgg9_sgd_lr=0.1_bs=128_wd=0.0_save_epoch=1_model_300.t7_vgg9_sgd_lr=0.1_bs=8192_wd=0.0_save_epoch=1_model_300.t7_states.h5 is already set up\n",
            "cifar10/trained_nets/vgg9_sgd_lr=0.1_bs=128_wd=0.0_save_epoch=1_model_300.t7_vgg9_sgd_lr=0.1_bs=8192_wd=0.0_save_epoch=1_model_300.t7_states.h5_[-0.5,1.5,51].h5 is already set up\n",
            "True\n",
            "Files already downloaded and verified\n",
            "Files already downloaded and verified\n",
            "Computing 0 values for rank 0\n",
            "Rank 0 done!  Total time: 0.00 Sync: 0.00\n",
            "------------------------------------------------------------------\n",
            "plot_1d_loss_err\n",
            "------------------------------------------------------------------\n",
            "<KeysViewHDF5 ['test_acc', 'test_loss', 'train_acc', 'train_loss', 'xcoordinates']>\n",
            "train_loss\n",
            "[6.18976120e+00 4.14388283e+00 2.65845682e+00 1.61346685e+00\n",
            " 9.17771729e-01 4.83011664e-01 2.29061548e-01 9.54470743e-02\n",
            " 3.27922758e-02 8.65242825e-03 1.91712220e-03 3.98806218e-04\n",
            " 9.77770086e-05 1.10957656e-04 5.54198758e-04 3.33822032e-03\n",
            " 1.71601546e-02 6.65831345e-02 1.91944746e-01 4.36359165e-01\n",
            " 8.39404122e-01 1.43153739e+00 2.22338610e+00 3.16535848e+00\n",
            " 4.14113530e+00 5.03762119e+00 5.78872893e+00 6.38101983e+00\n",
            " 6.83032310e+00 7.16207454e+00 7.40185809e+00 7.57308948e+00\n",
            " 7.69341906e+00 7.75607986e+00 7.70879434e+00 7.31395207e+00\n",
            " 5.80808054e+00 1.62599872e+00            nan            nan\n",
            "            nan            nan            nan            nan\n",
            "            nan            nan            nan            nan\n",
            "            nan            nan            nan]\n",
            "train_acc\n",
            "[ 71.448  76.622  81.514  86.024  90.28   93.638  96.206  98.03   99.168\n",
            "  99.754  99.942  99.99   99.998 100.     99.988  99.884  99.418  97.658\n",
            "  94.14   88.178  79.902  69.134  56.834  45.21   35.924  29.274  24.24\n",
            "  20.206  16.772  14.116  12.346  11.18   10.748  10.624  10.936  12.742\n",
            "  19.358  62.166  10.     10.     10.     10.     10.     10.     10.\n",
            "  10.     10.     10.     10.     10.     10.   ]\n"
          ]
        }
      ]
    },
    {
      "cell_type": "markdown",
      "source": [
        "## Producing plots along random normalized directions"
      ],
      "metadata": {
        "id": "9r6F5J7ZONoz"
      }
    },
    {
      "cell_type": "code",
      "source": [
        "!python plot_surface.py --mpi $CUDA_FLAG --model vgg9 --x=-1:1:51 \\\n",
        "--model_file cifar10/trained_nets/vgg9_sgd_lr=0.1_bs=128_wd=0.0_save_epoch=1/model_300.t7 \\\n",
        "--dir_type weights --xnorm filter --xignore biasbn\\\n",
        "--plot --timestamp --fileformat png"
      ],
      "metadata": {
        "colab": {
          "base_uri": "https://localhost:8080/"
        },
        "id": "xqz-Q9gLOdQy",
        "outputId": "673bbc66-5051-4e6b-eea5-4cca044bcf0b"
      },
      "execution_count": null,
      "outputs": [
        {
          "output_type": "stream",
          "name": "stdout",
          "text": [
            "Using manual seed: 123\n",
            "The current seed is 123.\n",
            "Rank 0 use GPU 0 of 1 GPUs on 7dc99e10bf0f\n",
            "-------------------------------------------------------------------\n",
            "setup_direction\n",
            "-------------------------------------------------------------------\n",
            "cifar10/trained_nets/vgg9_sgd_lr=0.1_bs=128_wd=0.0_save_epoch=1/model_300.t7_weights_xignore=biasbn_xnorm=filter.h5 is already set up\n",
            "cifar10/trained_nets/vgg9_sgd_lr=0.1_bs=128_wd=0.0_save_epoch=1/model_300.t7_weights_xignore=biasbn_xnorm=filter.h5_[-1.0,1.0,51].h5 is already set up\n",
            "True\n",
            "Files already downloaded and verified\n",
            "Files already downloaded and verified\n",
            "Computing 0 values for rank 0\n",
            "Rank 0 done!  Total time: 0.00 Sync: 0.00\n",
            "------------------------------------------------------------------\n",
            "plot_1d_loss_err\n",
            "------------------------------------------------------------------\n",
            "<KeysViewHDF5 ['dir_file', 'test_acc', 'test_loss', 'train_acc', 'train_loss', 'xcoordinates']>\n",
            "train_loss\n",
            "[8.31840509e+00 7.55533535e+00 6.80431453e+00 6.06600893e+00\n",
            " 5.34905924e+00 4.66605774e+00 4.02287147e+00 3.42010607e+00\n",
            " 2.85986870e+00 2.34393337e+00 1.87486020e+00 1.45978559e+00\n",
            " 1.10039356e+00 7.96810968e-01 5.49934147e-01 3.56571759e-01\n",
            " 2.14117195e-01 1.16695802e-01 5.61289009e-02 2.34939356e-02\n",
            " 8.06819490e-03 2.43828496e-03 7.17057572e-04 2.62264836e-04\n",
            " 1.23088918e-04 7.99016880e-05 9.13419072e-05 1.79602956e-04\n",
            " 4.29163085e-04 1.21777558e-03 3.72444004e-03 1.06570226e-02\n",
            " 2.63656053e-02 5.53723349e-02 1.02201078e-01 1.71901334e-01\n",
            " 2.68282180e-01 3.95784609e-01 5.60618139e-01 7.69773863e-01\n",
            " 1.03047659e+00 1.34738316e+00 1.72605249e+00 2.17763975e+00\n",
            " 2.71531112e+00 3.34514249e+00 4.07244554e+00 4.89116389e+00\n",
            " 5.77868477e+00 6.70371828e+00 7.62724987e+00]\n",
            "train_acc\n",
            "[ 27.906  30.77   34.068  37.618  41.838  46.488  51.346  56.368  61.712\n",
            "  66.806  71.85   76.938  81.396  85.728  89.362  92.452  94.988  96.918\n",
            "  98.33   99.24   99.708  99.91   99.98   99.994 100.    100.    100.\n",
            "  99.996  99.988  99.966  99.884  99.642  99.106  98.286  97.076  95.388\n",
            "  93.262  90.628  87.424  83.472  78.922  73.78   67.934  61.658  54.918\n",
            "  47.968  41.162  34.806  29.41   24.642  21.152]\n"
          ]
        }
      ]
    },
    {
      "cell_type": "markdown",
      "source": [
        "## Visualizing 2D loss contours"
      ],
      "metadata": {
        "id": "NTuDPNxqgg-T"
      }
    },
    {
      "cell_type": "markdown",
      "source": [
        "call without cuda (sorry need it to copy and paste)\n",
        "\n",
        "\n",
        "```\n",
        "python plot_surface.py --mpi --model resnet56 --x=-1:1:5 --y=-1:1:5 \\\n",
        "--model_file cifar10/trained_nets/resnet56_sgd_lr=0.1_bs=128_wd=0.0005/model_300.t7 \\\n",
        "--dir_type weights --xnorm filter --xignore biasbn --ynorm filter --yignore biasbn  --plot\n",
        "```\n",
        "\n",
        "\n",
        "```\n",
        "python plot_surface.py --mpi --model resnet56 --x=-1:1:5 --y=-1:1:5 \\\n",
        "--xnorm filter --xignore biasbn --ynorm filter --yignore biasbn  --plot\n",
        "```\n",
        "\n",
        "\n",
        "```\n",
        "mpirun -n 4 python plot_surface.py --mpi --model resnet56 --x=-1:1:51 --y=-1:1:51 \\\n",
        "--model_file cifar10/trained_nets/resnet56_sgd_lr=0.1_bs=128_wd=0.0005/model_300.t7 \\\n",
        "--dir_type weights --xnorm filter --xignore biasbn --ynorm filter --yignore biasbn  --plot\n",
        "```\n",
        "\n",
        "\n",
        "\n"
      ],
      "metadata": {
        "id": "8IRC4VhFlchG"
      }
    },
    {
      "cell_type": "code",
      "source": [
        "!python plot_surface.py --mpi $CUDA_FLAG --model resnet56 --x=-1:1:5 --y=-1:1:5 \\\n",
        "--model_file cifar10/trained_nets/resnet56_sgd_lr=0.1_bs=128_wd=0.0005/model_300.t7 \\\n",
        "--dir_type weights --xnorm filter --xignore biasbn --ynorm filter --yignore biasbn\\\n",
        "--plot --timestamp --fileformat png"
      ],
      "metadata": {
        "colab": {
          "base_uri": "https://localhost:8080/"
        },
        "id": "U2o3jo41I3Z_",
        "outputId": "07789064-67d1-40b2-a560-66db1aa6714d"
      },
      "execution_count": null,
      "outputs": [
        {
          "output_type": "stream",
          "name": "stdout",
          "text": [
            "Using manual seed: 123\n",
            "The current seed is 123.\n",
            "Rank 0 use GPU 0 of 1 GPUs on 7dc99e10bf0f\n",
            "-------------------------------------------------------------------\n",
            "setup_direction\n",
            "-------------------------------------------------------------------\n",
            "cifar10/trained_nets/resnet56_sgd_lr=0.1_bs=128_wd=0.0005/model_300.t7_weights_xignore=biasbn_xnorm=filter_yignore=biasbn_ynorm=filter.h5 is already set up\n",
            "cifar10/trained_nets/resnet56_sgd_lr=0.1_bs=128_wd=0.0005/model_300.t7_weights_xignore=biasbn_xnorm=filter_yignore=biasbn_ynorm=filter.h5_[-1.0,1.0,5]x[-1.0,1.0,5].h5 is already set up\n",
            "True\n",
            "cosine similarity between x-axis and y-axis: 0.003037\n",
            "Files already downloaded and verified\n",
            "Files already downloaded and verified\n",
            "Computing 0 values for rank 0\n",
            "Rank 0 done!  Total time: 0.00 Sync: 0.00\n",
            "------------------------------------------------------------------\n",
            "plot_2d_contour\n",
            "------------------------------------------------------------------\n",
            "loading surface file: cifar10/trained_nets/resnet56_sgd_lr=0.1_bs=128_wd=0.0005/model_300.t7_weights_xignore=biasbn_xnorm=filter_yignore=biasbn_ynorm=filter.h5_[-1.0,1.0,5]x[-1.0,1.0,5].h5\n",
            "len(xcoordinates): 5   len(ycoordinates): 5\n",
            "max(train_loss) = 17.284111 \t min(train_loss) = 0.000920\n",
            "[[1.72841108e+01 6.39625205e+00 8.52340286e+00 6.25002889e+00\n",
            "  9.55291319e+00]\n",
            " [7.19628782e+00 4.01121892e+00 1.48906413e+00 4.43800078e+00\n",
            "  4.34681633e+00]\n",
            " [7.64713025e+00 1.95316908e+00 9.19622364e-04 1.57126387e+00\n",
            "  4.78391918e+00]\n",
            " [7.02043244e+00 3.78757603e+00 2.38064564e+00 4.54209094e+00\n",
            "  5.38992728e+00]\n",
            " [1.49821470e+01 4.97467396e+00 7.91538763e+00 5.50407268e+00\n",
            "  1.26848503e+01]]\n"
          ]
        }
      ]
    },
    {
      "cell_type": "markdown",
      "source": [
        "## Plotting the eigenvalue ratio heatmaps"
      ],
      "metadata": {
        "id": "-jKAO0COxHaE"
      }
    },
    {
      "cell_type": "code",
      "source": [
        "!python plot_hessian_eigen.py --mpi $CUDA_FLAG --model resnet56 --x=-1:1:5 --y=-1:1:5 \\\n",
        "--model_file cifar10/trained_nets/resnet56_sgd_lr=0.1_bs=128_wd=0.0005/model_300.t7 \\\n",
        "--dir_type weights --xnorm filter --xignore biasbn --ynorm filter --yignore biasbn\\\n",
        "--plot --timestamp --fileformat png"
      ],
      "metadata": {
        "colab": {
          "base_uri": "https://localhost:8080/"
        },
        "id": "FBinME9kxFen",
        "outputId": "ece3f8b7-03ea-489a-9ea1-1cde07610555"
      },
      "execution_count": null,
      "outputs": [
        {
          "output_type": "stream",
          "name": "stdout",
          "text": [
            "Using manual seed: 123\n",
            "The current seed is 123.\n",
            "Rank 0 use GPU 0 of 1 GPUs on e656efa94441\n",
            "-------------------------------------------------------------------\n",
            "setup_direction\n",
            "-------------------------------------------------------------------\n",
            "cifar10/trained_nets/resnet56_sgd_lr=0.1_bs=128_wd=0.0005/model_300.t7_weights_xignore=biasbn_xnorm=filter_yignore=biasbn_ynorm=filter.h5 is already set up\n",
            "cifar10/trained_nets/resnet56_sgd_lr=0.1_bs=128_wd=0.0005/model_300.t7_weights_xignore=biasbn_xnorm=filter_yignore=biasbn_ynorm=filter.h5_[-1.0,1.0,5]x[-1.0,1.0,5].h5 is already set up\n",
            "True\n",
            "cosine similarity between x-axis and y-axis: 0.003037\n",
            "Files already downloaded and verified\n",
            "Files already downloaded and verified\n",
            "Computing 25 values for rank 0\n",
            "The number of parameters is: 851504\n",
            "Rank 0: computing max eigenvalue\n",
            "   Iter: 1  time: 104.078464\n",
            "   Iter: 2  time: 108.540136\n",
            "   Iter: 3  time: 108.432164\n",
            "   Iter: 4  time: 108.901910\n",
            "   Iter: 5  time: 108.583978\n",
            "   Iter: 6  time: 108.356730\n",
            "   Iter: 7  time: 108.528413\n",
            "   Iter: 8  time: 108.429476\n",
            "   Iter: 9  time: 108.547537\n",
            "   Iter: 10  time: 108.373927\n",
            "   Iter: 11  time: 108.453249\n",
            "   Iter: 12  time: 108.085302\n",
            "   Iter: 13  time: 108.292925\n",
            "   Iter: 14  time: 107.939536\n",
            "   Iter: 15  time: 108.020596\n",
            "   Iter: 16  time: 107.808888\n",
            "   Iter: 17  time: 107.896587\n",
            "   Iter: 18  time: 108.004893\n",
            "   Iter: 19  time: 107.964796\n",
            "   Iter: 20  time: 108.045700\n",
            "   Iter: 21  time: 107.629641\n",
            "max eigenvalue = 91712640.000000\n",
            "Rank 0: Computing shifted eigenvalue\n",
            "   Iter: 22  time: 104.792747\n",
            "Traceback (most recent call last):\n",
            "  File \"/content/drive/MyDrive/Studium/WS 2023/MML/Paper 04/code/plot_hessian_eigen.py\", line 255, in <module>\n",
            "    crunch_hessian_eigs(surf_file, net, w, s, d, trainloader, comm, rank, args)\n",
            "  File \"/content/drive/MyDrive/Studium/WS 2023/MML/Paper 04/code/plot_hessian_eigen.py\", line 78, in crunch_hessian_eigs\n",
            "    maxeig, mineig, iter_count = hess_vec_prod.min_max_hessian_eigs(net, dataloader,\n",
            "  File \"/content/drive/MyDrive/Studium/WS 2023/MML/Paper 04/code/hess_vec_prod.py\", line 142, in min_max_hessian_eigs\n",
            "    eigvals, eigvecs = eigsh(A, k=1, tol=1e-2)\n",
            "  File \"/usr/local/lib/python3.10/dist-packages/scipy/sparse/linalg/_eigen/arpack/arpack.py\", line 1697, in eigsh\n",
            "    params.iterate()\n",
            "  File \"/usr/local/lib/python3.10/dist-packages/scipy/sparse/linalg/_eigen/arpack/arpack.py\", line 549, in iterate\n",
            "    self.workd[yslice] = self.OP(self.workd[xslice])\n",
            "  File \"/usr/local/lib/python3.10/dist-packages/scipy/sparse/linalg/_interface.py\", line 234, in matvec\n",
            "    y = self._matvec(x)\n",
            "  File \"/usr/local/lib/python3.10/dist-packages/scipy/sparse/linalg/_interface.py\", line 591, in _matvec\n",
            "    return self.__matvec_impl(x)\n",
            "  File \"/content/drive/MyDrive/Studium/WS 2023/MML/Paper 04/code/hess_vec_prod.py\", line 137, in shifted_hess_vec_prod\n",
            "    return hess_vec_prod(vec) - shift*vec\n",
            "  File \"/content/drive/MyDrive/Studium/WS 2023/MML/Paper 04/code/hess_vec_prod.py\", line 120, in hess_vec_prod\n",
            "    eval_hess_vec_prod(vec, params, net, criterion, dataloader, use_cuda)\n",
            "  File \"/content/drive/MyDrive/Studium/WS 2023/MML/Paper 04/code/hess_vec_prod.py\", line 82, in eval_hess_vec_prod\n",
            "    prod = prod + (g * v).cpu().sum()\n",
            "KeyboardInterrupt\n"
          ]
        }
      ]
    },
    {
      "cell_type": "markdown",
      "source": [
        "# Appendix"
      ],
      "metadata": {
        "id": "mUj3wQmmCiH9"
      }
    },
    {
      "cell_type": "markdown",
      "source": [
        "## Reverse engineering the structure of .h5 files"
      ],
      "metadata": {
        "id": "C9LQAsDfk3v0"
      }
    },
    {
      "cell_type": "code",
      "source": [
        "FOLDER_PATH = FILE_PATH + \"/cifar10/trained_nets\" +\\\n",
        "\"/resnet56_noshort_sgd_lr=0.1_bs=128_wd=0.0005\"\n",
        "\n",
        "interesting_attributes = [\"min_eig\", \"max_eig\"]\n",
        "\n",
        "for file_name in os.listdir(FOLDER_PATH):\n",
        "    if file_name.endswith(\".h5\"):\n",
        "        print(f\"File name: {file_name}\")\n",
        "\n",
        "        with h5py.File(FOLDER_PATH + \"/\" + file_name, \"r\") as f:\n",
        "          for key in f:\n",
        "            print(f\"Key: {key}\")\n",
        "\n",
        "            if key in interesting_attributes:\n",
        "              print(\"Data:\")\n",
        "              try:\n",
        "                print(list(f[key]))\n",
        "              except:\n",
        "                print(\"Not printable\")\n",
        "\n",
        "        print(\"---------------------------------------\")\n"
      ],
      "metadata": {
        "colab": {
          "base_uri": "https://localhost:8080/"
        },
        "id": "gqZ-JrQr9QW_",
        "outputId": "6ecd708a-e8e4-4510-919f-40afca56acd4"
      },
      "execution_count": null,
      "outputs": [
        {
          "output_type": "stream",
          "name": "stdout",
          "text": [
            "File name: model_300.t7_weights_xignore=biasbn_xnorm=filter_yignore=biasbn_ynorm=filter.h5\n",
            "Key: xdirection\n",
            "Key: ydirection\n",
            "---------------------------------------\n",
            "File name: model_300.t7_weights_xignore=biasbn_xnorm=filter_yignore=biasbn_ynorm=filter.h5_[-1.0,1.0,201]x[-1.0,1.0,201].h5\n",
            "Key: dir_file\n",
            "Key: test_loss\n",
            "Key: train_acc\n",
            "Key: train_loss\n",
            "Key: xcoordinates\n",
            "Key: ycoordinates\n",
            "---------------------------------------\n",
            "File name: model_300.t7_weights_xignore=biasbn_xnorm=filter_yignore=biasbn_ynorm=filter_idx=1.h5\n",
            "Key: xdirection\n",
            "Key: ydirection\n",
            "---------------------------------------\n",
            "File name: model_300.t7_weights_xignore=biasbn_xnorm=filter_yignore=biasbn_ynorm=filter_idx=1.h5_[-1.0,1.0,51]x[-1.0,1.0,51].h5\n",
            "Key: dir_file\n",
            "Key: loss_vals\n",
            "Key: test_loss\n",
            "Key: train_acc\n",
            "Key: train_loss\n",
            "Key: xcoordinates\n",
            "Key: ycoordinates\n",
            "---------------------------------------\n"
          ]
        }
      ]
    },
    {
      "cell_type": "markdown",
      "source": [
        "## Counting the number of iterations in the Implictly Restarted Lanczos Method"
      ],
      "metadata": {
        "id": "4fxMURSC7v-C"
      }
    },
    {
      "cell_type": "code",
      "source": [
        "dimension = 1\n",
        "base = 2\n",
        "exponent = 0\n",
        "\n",
        "current_time = 0\n",
        "max_time = 1000 * 60 * 10 # 10 minutes in microseconds\n",
        "\n",
        "while current_time <= max_time:\n",
        "  exponent += 1\n",
        "  dimension *= base\n",
        "\n",
        "  print(f\"Current exponent: {exponent}\")\n",
        "  print(f\"Current dimension: {dimension}x{dimension}\")\n",
        "\n",
        "  start = time.perf_counter()\n",
        "  random_spd_matrix = 4 * scipy.sparse.identity(dimension)\n",
        "  end = time.perf_counter()\n",
        "\n",
        "  print(f\"Generated a s.p.d. matrix of dimensions {dimension}x{dimension}\\n\\\n",
        "          in {end - start} seconds.\")\n",
        "\n",
        "  def mat_vec_prod(vector):\n",
        "    mat_vec_prod.count += 1\n",
        "    return random_spd_matrix @ vector\n",
        "\n",
        "  mat_vec_prod.count = 0\n",
        "  lin_op = scipy.sparse.linalg.LinearOperator((dimension, dimension),\n",
        "                                               matvec = mat_vec_prod)\n",
        "\n",
        "  start = time.perf_counter()\n",
        "  eigvals, eigvecs = scipy.sparse.linalg.eigsh(lin_op, k = 1, tol = 1e-10)\n",
        "  end = time.perf_counter()\n",
        "\n",
        "  current_time = end - start\n",
        "\n",
        "  print(f\"Calculated eigenvalues and eigenvectors for a s.p.d. matrix of\\n\\\n",
        "         dimensions {dimension}x{dimension} using {mat_vec_prod.count}\\n\\\n",
        "         iterations and {current_time} seconds.\")\n",
        "\n",
        "  print(\"---------------------------------------------------------------------\")\n",
        "\n",
        "\n"
      ],
      "metadata": {
        "colab": {
          "base_uri": "https://localhost:8080/",
          "height": 1000
        },
        "id": "gb7OyynO78kN",
        "outputId": "05832b2a-7eb4-4faf-91b6-8229456b6d2e"
      },
      "execution_count": null,
      "outputs": [
        {
          "output_type": "stream",
          "name": "stdout",
          "text": [
            "Current exponent: 1\n",
            "Current dimension: 2x2\n",
            "Generated a s.p.d. matrix of dimensions 2x2\n",
            "          in 0.0004720729998552997 seconds.\n",
            "Calculated eigenvalues and eigenvectors for a s.p.d. matrix of\n",
            "         dimensions 2x2 using 3\n",
            "         iterations and 0.020444603999976607 seconds.\n",
            "---------------------------------------------------------------------\n",
            "Current exponent: 2\n",
            "Current dimension: 4x4\n",
            "Generated a s.p.d. matrix of dimensions 4x4\n",
            "          in 0.00035630000002129236 seconds.\n",
            "Calculated eigenvalues and eigenvectors for a s.p.d. matrix of\n",
            "         dimensions 4x4 using 5\n",
            "         iterations and 0.0006658349998360791 seconds.\n",
            "---------------------------------------------------------------------\n",
            "Current exponent: 3\n",
            "Current dimension: 8x8\n",
            "Generated a s.p.d. matrix of dimensions 8x8\n",
            "          in 0.00026480699989406276 seconds.\n",
            "Calculated eigenvalues and eigenvectors for a s.p.d. matrix of\n",
            "         dimensions 8x8 using 9\n",
            "         iterations and 0.0009655869998823619 seconds.\n",
            "---------------------------------------------------------------------\n",
            "Current exponent: 4\n",
            "Current dimension: 16x16\n",
            "Generated a s.p.d. matrix of dimensions 16x16\n",
            "          in 0.00024942200002442405 seconds.\n",
            "Calculated eigenvalues and eigenvectors for a s.p.d. matrix of\n",
            "         dimensions 16x16 using 17\n",
            "         iterations and 0.0010594269999728567 seconds.\n",
            "---------------------------------------------------------------------\n",
            "Current exponent: 5\n",
            "Current dimension: 32x32\n",
            "Generated a s.p.d. matrix of dimensions 32x32\n",
            "          in 0.00024976200006676663 seconds.\n",
            "Calculated eigenvalues and eigenvectors for a s.p.d. matrix of\n",
            "         dimensions 32x32 using 21\n",
            "         iterations and 0.0011627989999851707 seconds.\n",
            "---------------------------------------------------------------------\n",
            "Current exponent: 6\n",
            "Current dimension: 64x64\n",
            "Generated a s.p.d. matrix of dimensions 64x64\n",
            "          in 0.00023497000006500457 seconds.\n",
            "Calculated eigenvalues and eigenvectors for a s.p.d. matrix of\n",
            "         dimensions 64x64 using 21\n",
            "         iterations and 0.0030913749999399442 seconds.\n",
            "---------------------------------------------------------------------\n",
            "Current exponent: 7\n",
            "Current dimension: 128x128\n",
            "Generated a s.p.d. matrix of dimensions 128x128\n",
            "          in 0.0002949259999240894 seconds.\n",
            "Calculated eigenvalues and eigenvectors for a s.p.d. matrix of\n",
            "         dimensions 128x128 using 21\n",
            "         iterations and 0.0012310839999827294 seconds.\n",
            "---------------------------------------------------------------------\n",
            "Current exponent: 8\n",
            "Current dimension: 256x256\n",
            "Generated a s.p.d. matrix of dimensions 256x256\n",
            "          in 0.00033195600008184556 seconds.\n",
            "Calculated eigenvalues and eigenvectors for a s.p.d. matrix of\n",
            "         dimensions 256x256 using 21\n",
            "         iterations and 0.0015134989998841775 seconds.\n",
            "---------------------------------------------------------------------\n",
            "Current exponent: 9\n",
            "Current dimension: 512x512\n",
            "Generated a s.p.d. matrix of dimensions 512x512\n",
            "          in 0.0002558589999352989 seconds.\n",
            "Calculated eigenvalues and eigenvectors for a s.p.d. matrix of\n",
            "         dimensions 512x512 using 21\n",
            "         iterations and 0.012263996000001498 seconds.\n",
            "---------------------------------------------------------------------\n",
            "Current exponent: 10\n",
            "Current dimension: 1024x1024\n",
            "Generated a s.p.d. matrix of dimensions 1024x1024\n",
            "          in 0.0002196989998992649 seconds.\n",
            "Calculated eigenvalues and eigenvectors for a s.p.d. matrix of\n",
            "         dimensions 1024x1024 using 21\n",
            "         iterations and 0.004316988000027777 seconds.\n",
            "---------------------------------------------------------------------\n",
            "Current exponent: 11\n",
            "Current dimension: 2048x2048\n",
            "Generated a s.p.d. matrix of dimensions 2048x2048\n",
            "          in 0.00020272500000828586 seconds.\n",
            "Calculated eigenvalues and eigenvectors for a s.p.d. matrix of\n",
            "         dimensions 2048x2048 using 21\n",
            "         iterations and 0.010554857999977685 seconds.\n",
            "---------------------------------------------------------------------\n",
            "Current exponent: 12\n",
            "Current dimension: 4096x4096\n",
            "Generated a s.p.d. matrix of dimensions 4096x4096\n",
            "          in 0.0002489179998974578 seconds.\n",
            "Calculated eigenvalues and eigenvectors for a s.p.d. matrix of\n",
            "         dimensions 4096x4096 using 21\n",
            "         iterations and 0.020196098000042184 seconds.\n",
            "---------------------------------------------------------------------\n",
            "Current exponent: 13\n",
            "Current dimension: 8192x8192\n",
            "Generated a s.p.d. matrix of dimensions 8192x8192\n",
            "          in 0.0018286170000010316 seconds.\n",
            "Calculated eigenvalues and eigenvectors for a s.p.d. matrix of\n",
            "         dimensions 8192x8192 using 21\n",
            "         iterations and 0.03487550799991368 seconds.\n",
            "---------------------------------------------------------------------\n",
            "Current exponent: 14\n",
            "Current dimension: 16384x16384\n",
            "Generated a s.p.d. matrix of dimensions 16384x16384\n",
            "          in 0.0026048760000776383 seconds.\n",
            "Calculated eigenvalues and eigenvectors for a s.p.d. matrix of\n",
            "         dimensions 16384x16384 using 21\n",
            "         iterations and 0.05438995300005445 seconds.\n",
            "---------------------------------------------------------------------\n",
            "Current exponent: 15\n",
            "Current dimension: 32768x32768\n",
            "Generated a s.p.d. matrix of dimensions 32768x32768\n",
            "          in 0.002133297999989736 seconds.\n",
            "Calculated eigenvalues and eigenvectors for a s.p.d. matrix of\n",
            "         dimensions 32768x32768 using 21\n",
            "         iterations and 0.0934099480000441 seconds.\n",
            "---------------------------------------------------------------------\n",
            "Current exponent: 16\n",
            "Current dimension: 65536x65536\n",
            "Generated a s.p.d. matrix of dimensions 65536x65536\n",
            "          in 0.005657260000134556 seconds.\n",
            "Calculated eigenvalues and eigenvectors for a s.p.d. matrix of\n",
            "         dimensions 65536x65536 using 21\n",
            "         iterations and 0.158175736999965 seconds.\n",
            "---------------------------------------------------------------------\n",
            "Current exponent: 17\n",
            "Current dimension: 131072x131072\n",
            "Generated a s.p.d. matrix of dimensions 131072x131072\n",
            "          in 0.0026448650000929774 seconds.\n",
            "Calculated eigenvalues and eigenvectors for a s.p.d. matrix of\n",
            "         dimensions 131072x131072 using 21\n",
            "         iterations and 0.2819472379999297 seconds.\n",
            "---------------------------------------------------------------------\n",
            "Current exponent: 18\n",
            "Current dimension: 262144x262144\n",
            "Generated a s.p.d. matrix of dimensions 262144x262144\n",
            "          in 0.0038694929999110173 seconds.\n",
            "Calculated eigenvalues and eigenvectors for a s.p.d. matrix of\n",
            "         dimensions 262144x262144 using 21\n",
            "         iterations and 0.44991905000006227 seconds.\n",
            "---------------------------------------------------------------------\n",
            "Current exponent: 19\n",
            "Current dimension: 524288x524288\n",
            "Generated a s.p.d. matrix of dimensions 524288x524288\n",
            "          in 0.0030057989999932033 seconds.\n",
            "Calculated eigenvalues and eigenvectors for a s.p.d. matrix of\n",
            "         dimensions 524288x524288 using 21\n",
            "         iterations and 1.2893606050001836 seconds.\n",
            "---------------------------------------------------------------------\n",
            "Current exponent: 20\n",
            "Current dimension: 1048576x1048576\n",
            "Generated a s.p.d. matrix of dimensions 1048576x1048576\n",
            "          in 0.009765880000031757 seconds.\n",
            "Calculated eigenvalues and eigenvectors for a s.p.d. matrix of\n",
            "         dimensions 1048576x1048576 using 21\n",
            "         iterations and 1.5832032320001872 seconds.\n",
            "---------------------------------------------------------------------\n",
            "Current exponent: 21\n",
            "Current dimension: 2097152x2097152\n",
            "Generated a s.p.d. matrix of dimensions 2097152x2097152\n",
            "          in 0.010982388000002175 seconds.\n",
            "Calculated eigenvalues and eigenvectors for a s.p.d. matrix of\n",
            "         dimensions 2097152x2097152 using 21\n",
            "         iterations and 4.457899057000077 seconds.\n",
            "---------------------------------------------------------------------\n",
            "Current exponent: 22\n",
            "Current dimension: 4194304x4194304\n",
            "Generated a s.p.d. matrix of dimensions 4194304x4194304\n",
            "          in 0.043691613999953915 seconds.\n",
            "Calculated eigenvalues and eigenvectors for a s.p.d. matrix of\n",
            "         dimensions 4194304x4194304 using 21\n",
            "         iterations and 10.203570494000132 seconds.\n",
            "---------------------------------------------------------------------\n",
            "Current exponent: 23\n",
            "Current dimension: 8388608x8388608\n",
            "Generated a s.p.d. matrix of dimensions 8388608x8388608\n",
            "          in 0.057362329999932626 seconds.\n",
            "Calculated eigenvalues and eigenvectors for a s.p.d. matrix of\n",
            "         dimensions 8388608x8388608 using 21\n",
            "         iterations and 16.009339284999896 seconds.\n",
            "---------------------------------------------------------------------\n",
            "Current exponent: 24\n",
            "Current dimension: 16777216x16777216\n",
            "Generated a s.p.d. matrix of dimensions 16777216x16777216\n",
            "          in 0.08982839400005105 seconds.\n"
          ]
        },
        {
          "output_type": "error",
          "ename": "KeyboardInterrupt",
          "evalue": "ignored",
          "traceback": [
            "\u001b[0;31m---------------------------------------------------------------------------\u001b[0m",
            "\u001b[0;31mKeyboardInterrupt\u001b[0m                         Traceback (most recent call last)",
            "\u001b[0;32m<ipython-input-8-775f4b1ec4b0>\u001b[0m in \u001b[0;36m<cell line: 8>\u001b[0;34m()\u001b[0m\n\u001b[1;32m     29\u001b[0m \u001b[0;34m\u001b[0m\u001b[0m\n\u001b[1;32m     30\u001b[0m   \u001b[0mstart\u001b[0m \u001b[0;34m=\u001b[0m \u001b[0mtime\u001b[0m\u001b[0;34m.\u001b[0m\u001b[0mperf_counter\u001b[0m\u001b[0;34m(\u001b[0m\u001b[0;34m)\u001b[0m\u001b[0;34m\u001b[0m\u001b[0;34m\u001b[0m\u001b[0m\n\u001b[0;32m---> 31\u001b[0;31m   \u001b[0meigvals\u001b[0m\u001b[0;34m,\u001b[0m \u001b[0meigvecs\u001b[0m \u001b[0;34m=\u001b[0m \u001b[0mscipy\u001b[0m\u001b[0;34m.\u001b[0m\u001b[0msparse\u001b[0m\u001b[0;34m.\u001b[0m\u001b[0mlinalg\u001b[0m\u001b[0;34m.\u001b[0m\u001b[0meigsh\u001b[0m\u001b[0;34m(\u001b[0m\u001b[0mlin_op\u001b[0m\u001b[0;34m,\u001b[0m \u001b[0mk\u001b[0m \u001b[0;34m=\u001b[0m \u001b[0;36m1\u001b[0m\u001b[0;34m,\u001b[0m \u001b[0mtol\u001b[0m \u001b[0;34m=\u001b[0m \u001b[0;36m1e-10\u001b[0m\u001b[0;34m)\u001b[0m\u001b[0;34m\u001b[0m\u001b[0;34m\u001b[0m\u001b[0m\n\u001b[0m\u001b[1;32m     32\u001b[0m   \u001b[0mend\u001b[0m \u001b[0;34m=\u001b[0m \u001b[0mtime\u001b[0m\u001b[0;34m.\u001b[0m\u001b[0mperf_counter\u001b[0m\u001b[0;34m(\u001b[0m\u001b[0;34m)\u001b[0m\u001b[0;34m\u001b[0m\u001b[0;34m\u001b[0m\u001b[0m\n\u001b[1;32m     33\u001b[0m \u001b[0;34m\u001b[0m\u001b[0m\n",
            "\u001b[0;32m/usr/local/lib/python3.10/dist-packages/scipy/sparse/linalg/_eigen/arpack/arpack.py\u001b[0m in \u001b[0;36meigsh\u001b[0;34m(A, k, M, sigma, which, v0, ncv, maxiter, tol, return_eigenvectors, Minv, OPinv, mode)\u001b[0m\n\u001b[1;32m   1695\u001b[0m     \u001b[0;32mwith\u001b[0m \u001b[0m_ARPACK_LOCK\u001b[0m\u001b[0;34m:\u001b[0m\u001b[0;34m\u001b[0m\u001b[0;34m\u001b[0m\u001b[0m\n\u001b[1;32m   1696\u001b[0m         \u001b[0;32mwhile\u001b[0m \u001b[0;32mnot\u001b[0m \u001b[0mparams\u001b[0m\u001b[0;34m.\u001b[0m\u001b[0mconverged\u001b[0m\u001b[0;34m:\u001b[0m\u001b[0;34m\u001b[0m\u001b[0;34m\u001b[0m\u001b[0m\n\u001b[0;32m-> 1697\u001b[0;31m             \u001b[0mparams\u001b[0m\u001b[0;34m.\u001b[0m\u001b[0miterate\u001b[0m\u001b[0;34m(\u001b[0m\u001b[0;34m)\u001b[0m\u001b[0;34m\u001b[0m\u001b[0;34m\u001b[0m\u001b[0m\n\u001b[0m\u001b[1;32m   1698\u001b[0m \u001b[0;34m\u001b[0m\u001b[0m\n\u001b[1;32m   1699\u001b[0m         \u001b[0;32mreturn\u001b[0m \u001b[0mparams\u001b[0m\u001b[0;34m.\u001b[0m\u001b[0mextract\u001b[0m\u001b[0;34m(\u001b[0m\u001b[0mreturn_eigenvectors\u001b[0m\u001b[0;34m)\u001b[0m\u001b[0;34m\u001b[0m\u001b[0;34m\u001b[0m\u001b[0m\n",
            "\u001b[0;32m/usr/local/lib/python3.10/dist-packages/scipy/sparse/linalg/_eigen/arpack/arpack.py\u001b[0m in \u001b[0;36miterate\u001b[0;34m(self)\u001b[0m\n\u001b[1;32m    535\u001b[0m     \u001b[0;32mdef\u001b[0m \u001b[0miterate\u001b[0m\u001b[0;34m(\u001b[0m\u001b[0mself\u001b[0m\u001b[0;34m)\u001b[0m\u001b[0;34m:\u001b[0m\u001b[0;34m\u001b[0m\u001b[0;34m\u001b[0m\u001b[0m\n\u001b[1;32m    536\u001b[0m         \u001b[0mself\u001b[0m\u001b[0;34m.\u001b[0m\u001b[0mido\u001b[0m\u001b[0;34m,\u001b[0m \u001b[0mself\u001b[0m\u001b[0;34m.\u001b[0m\u001b[0mtol\u001b[0m\u001b[0;34m,\u001b[0m \u001b[0mself\u001b[0m\u001b[0;34m.\u001b[0m\u001b[0mresid\u001b[0m\u001b[0;34m,\u001b[0m \u001b[0mself\u001b[0m\u001b[0;34m.\u001b[0m\u001b[0mv\u001b[0m\u001b[0;34m,\u001b[0m \u001b[0mself\u001b[0m\u001b[0;34m.\u001b[0m\u001b[0miparam\u001b[0m\u001b[0;34m,\u001b[0m \u001b[0mself\u001b[0m\u001b[0;34m.\u001b[0m\u001b[0mipntr\u001b[0m\u001b[0;34m,\u001b[0m \u001b[0mself\u001b[0m\u001b[0;34m.\u001b[0m\u001b[0minfo\u001b[0m \u001b[0;34m=\u001b[0m\u001b[0;31m \u001b[0m\u001b[0;31m\\\u001b[0m\u001b[0;34m\u001b[0m\u001b[0;34m\u001b[0m\u001b[0m\n\u001b[0;32m--> 537\u001b[0;31m             self._arpack_solver(self.ido, self.bmat, self.which, self.k,\n\u001b[0m\u001b[1;32m    538\u001b[0m                                 \u001b[0mself\u001b[0m\u001b[0;34m.\u001b[0m\u001b[0mtol\u001b[0m\u001b[0;34m,\u001b[0m \u001b[0mself\u001b[0m\u001b[0;34m.\u001b[0m\u001b[0mresid\u001b[0m\u001b[0;34m,\u001b[0m \u001b[0mself\u001b[0m\u001b[0;34m.\u001b[0m\u001b[0mv\u001b[0m\u001b[0;34m,\u001b[0m \u001b[0mself\u001b[0m\u001b[0;34m.\u001b[0m\u001b[0miparam\u001b[0m\u001b[0;34m,\u001b[0m\u001b[0;34m\u001b[0m\u001b[0;34m\u001b[0m\u001b[0m\n\u001b[1;32m    539\u001b[0m                                 self.ipntr, self.workd, self.workl, self.info)\n",
            "\u001b[0;31mKeyboardInterrupt\u001b[0m: "
          ]
        }
      ]
    }
  ]
}